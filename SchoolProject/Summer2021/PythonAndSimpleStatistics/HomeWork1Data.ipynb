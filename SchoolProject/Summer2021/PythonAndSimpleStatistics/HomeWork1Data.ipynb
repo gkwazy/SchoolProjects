{
 "cells": [
  {
   "cell_type": "code",
   "execution_count": 1,
   "metadata": {},
   "outputs": [],
   "source": [
    "import numpy as np \n",
    "import pandas as pd \n",
    "import scipy\n",
    "from scipy.stats import norm\n",
    "import matplotlib.pyplot as plt\n",
    "import datetime\n",
    "import math"
   ]
  },
  {
   "cell_type": "code",
   "execution_count": 2,
   "metadata": {},
   "outputs": [],
   "source": [
    "def findMean(theData):\n",
    "    count = 0\n",
    "    myMean = float(0)\n",
    "    for x in theData:\n",
    "        myMean = myMean + float(x)\n",
    "        count += 1\n",
    "    myMean = myMean/count\n",
    "    return myMean\n",
    "# print(myMean)"
   ]
  },
  {
   "cell_type": "code",
   "execution_count": 3,
   "metadata": {},
   "outputs": [],
   "source": [
    "def findSD(theData):\n",
    "    count = 0\n",
    "    mySD = float(0)\n",
    "    mySums = 0\n",
    "    mySquSums = 0 \n",
    "\n",
    "    for x in theData:\n",
    "        mySums = mySums + x\n",
    "        mySquSums = mySquSums + (x **2 )\n",
    "        count += 1\n",
    "    mySD = math.sqrt(((count*mySquSums) - (mySums ** 2))/(count * (count-1)))\n",
    "    return mySD\n",
    "# print(mySD)"
   ]
  },
  {
   "cell_type": "markdown",
   "metadata": {},
   "source": [
    "Finding the Mean and SD for my functions and with numpy"
   ]
  },
  {
   "cell_type": "code",
   "execution_count": 4,
   "metadata": {},
   "outputs": [
    {
     "name": "stdout",
     "output_type": "stream",
     "text": [
      "My mean: 0.016957579500076175 \n",
      "Numpy mean: 0.016957579500076172\n",
      "My SD: 0.99771087060097\n",
      "Numpy SD: 0.9974614116970583\n"
     ]
    },
    {
     "data": {
      "image/png": "[encoded data removed]",
      "text/plain": [
       "<Figure size 432x288 with 1 Axes>"
      ]
     },
     "metadata": {
      "needs_background": "light"
     },
     "output_type": "display_data"
    }
   ],
   "source": [
    "normalData = norm.rvs(loc = 0, scale = 1, size = 2000)\n",
    "selfMean = findMean(normalData)\n",
    "selfSD = findSD(normalData)\n",
    "numMean = np.mean(normalData)\n",
    "numSD = np.std(normalData)\n",
    "print(f\"My mean: {selfMean} \")\n",
    "print(f\"Numpy mean: {numMean}\")\n",
    "print(f\"My SD: {selfSD}\")\n",
    "print(f\"Numpy SD: {numSD}\")\n",
    "\n",
    "plt.hist(normalData)\n",
    "plt.show()"
   ]
  },
  {
   "cell_type": "markdown",
   "metadata": {},
   "source": [
    "Functions for Mean and standard deviation\n"
   ]
  },
  {
   "cell_type": "code",
   "execution_count": 5,
   "metadata": {
    "tags": []
   },
   "outputs": [
    {
     "name": "stdout",
     "output_type": "stream",
     "text": [
      "                       MC\n",
      "2020-01-01 00:00:00  20.9\n",
      "2020-01-01 01:00:00  22.7\n",
      "2020-01-01 02:00:00  19.4\n",
      "2020-01-01 03:00:00  20.8\n",
      "2020-01-01 04:00:00  19.3\n",
      "...                   ...\n",
      "2020-12-31 19:00:00  19.6\n",
      "2020-12-31 20:00:00  22.5\n",
      "2020-12-31 21:00:00  24.0\n",
      "2020-12-31 22:00:00  22.6\n",
      "2020-12-31 23:00:00  24.8\n",
      "\n",
      "[8757 rows x 1 columns]\n"
     ]
    }
   ],
   "source": [
    "\n",
    "rawData = pd.read_csv(\"2020Data.csv\",usecols=[0,1], header=0, parse_dates=True, skip_blank_lines = True, index_col=0, skiprows=[0,2])\n",
    "rawData = rawData.dropna()\n",
    "\n",
    "\n",
    "print(rawData)"
   ]
  },
  {
   "cell_type": "code",
   "execution_count": 6,
   "metadata": {},
   "outputs": [
    {
     "data": {
      "text/html": [
       "<div>\n",
       "<style scoped>\n",
       "    .dataframe tbody tr th:only-of-type {\n",
       "        vertical-align: middle;\n",
       "    }\n",
       "\n",
       "    .dataframe tbody tr th {\n",
       "        vertical-align: top;\n",
       "    }\n",
       "\n",
       "    .dataframe thead th {\n",
       "        text-align: right;\n",
       "    }\n",
       "</style>\n",
       "<table border=\"1\" class=\"dataframe\">\n",
       "  <thead>\n",
       "    <tr style=\"text-align: right;\">\n",
       "      <th></th>\n",
       "      <th>Unnamed: 0</th>\n",
       "      <th>BV</th>\n",
       "    </tr>\n",
       "  </thead>\n",
       "  <tbody>\n",
       "    <tr>\n",
       "      <th>2</th>\n",
       "      <td>1/1/2020 0:00</td>\n",
       "      <td>20.9</td>\n",
       "    </tr>\n",
       "    <tr>\n",
       "      <th>3</th>\n",
       "      <td>1/1/2020 1:00</td>\n",
       "      <td>22.7</td>\n",
       "    </tr>\n",
       "    <tr>\n",
       "      <th>4</th>\n",
       "      <td>1/1/2020 2:00</td>\n",
       "      <td>19.4</td>\n",
       "    </tr>\n",
       "    <tr>\n",
       "      <th>5</th>\n",
       "      <td>1/1/2020 3:00</td>\n",
       "      <td>20.8</td>\n",
       "    </tr>\n",
       "    <tr>\n",
       "      <th>6</th>\n",
       "      <td>1/1/2020 4:00</td>\n",
       "      <td>19.3</td>\n",
       "    </tr>\n",
       "  </tbody>\n",
       "</table>\n",
       "</div>"
      ],
      "text/plain": [
       "      Unnamed: 0    BV\n",
       "2  1/1/2020 0:00  20.9\n",
       "3  1/1/2020 1:00  22.7\n",
       "4  1/1/2020 2:00  19.4\n",
       "5  1/1/2020 3:00  20.8\n",
       "6  1/1/2020 4:00  19.3"
      ]
     },
     "execution_count": 6,
     "metadata": {},
     "output_type": "execute_result"
    }
   ],
   "source": [
    "data = pd.read_csv(\"2020Data.csv\")\n",
    "data = data[2:][['Unnamed: 0', 'BV']].dropna()\n",
    "data['BV'] = pd.to_numeric(data['BV'])\n",
    "data.head()\n"
   ]
  },
  {
   "cell_type": "markdown",
   "metadata": {},
   "source": [
    "Adding Month and year col"
   ]
  },
  {
   "cell_type": "code",
   "execution_count": 7,
   "metadata": {
    "tags": []
   },
   "outputs": [
    {
     "data": {
      "text/html": [
       "<div>\n",
       "<style scoped>\n",
       "    .dataframe tbody tr th:only-of-type {\n",
       "        vertical-align: middle;\n",
       "    }\n",
       "\n",
       "    .dataframe tbody tr th {\n",
       "        vertical-align: top;\n",
       "    }\n",
       "\n",
       "    .dataframe thead th {\n",
       "        text-align: right;\n",
       "    }\n",
       "</style>\n",
       "<table border=\"1\" class=\"dataframe\">\n",
       "  <thead>\n",
       "    <tr style=\"text-align: right;\">\n",
       "      <th></th>\n",
       "      <th>Unnamed: 0</th>\n",
       "      <th>BV</th>\n",
       "      <th>month</th>\n",
       "      <th>hour</th>\n",
       "    </tr>\n",
       "  </thead>\n",
       "  <tbody>\n",
       "    <tr>\n",
       "      <th>2</th>\n",
       "      <td>1/1/2020 0:00</td>\n",
       "      <td>20.9</td>\n",
       "      <td>1</td>\n",
       "      <td>0</td>\n",
       "    </tr>\n",
       "    <tr>\n",
       "      <th>3</th>\n",
       "      <td>1/1/2020 1:00</td>\n",
       "      <td>22.7</td>\n",
       "      <td>1</td>\n",
       "      <td>1</td>\n",
       "    </tr>\n",
       "    <tr>\n",
       "      <th>4</th>\n",
       "      <td>1/1/2020 2:00</td>\n",
       "      <td>19.4</td>\n",
       "      <td>1</td>\n",
       "      <td>2</td>\n",
       "    </tr>\n",
       "    <tr>\n",
       "      <th>5</th>\n",
       "      <td>1/1/2020 3:00</td>\n",
       "      <td>20.8</td>\n",
       "      <td>1</td>\n",
       "      <td>3</td>\n",
       "    </tr>\n",
       "    <tr>\n",
       "      <th>6</th>\n",
       "      <td>1/1/2020 4:00</td>\n",
       "      <td>19.3</td>\n",
       "      <td>1</td>\n",
       "      <td>4</td>\n",
       "    </tr>\n",
       "    <tr>\n",
       "      <th>...</th>\n",
       "      <td>...</td>\n",
       "      <td>...</td>\n",
       "      <td>...</td>\n",
       "      <td>...</td>\n",
       "    </tr>\n",
       "    <tr>\n",
       "      <th>97</th>\n",
       "      <td>1/4/2020 23:00</td>\n",
       "      <td>4.8</td>\n",
       "      <td>1</td>\n",
       "      <td>23</td>\n",
       "    </tr>\n",
       "    <tr>\n",
       "      <th>98</th>\n",
       "      <td>1/5/2020 0:00</td>\n",
       "      <td>6.5</td>\n",
       "      <td>1</td>\n",
       "      <td>0</td>\n",
       "    </tr>\n",
       "    <tr>\n",
       "      <th>99</th>\n",
       "      <td>1/5/2020 1:00</td>\n",
       "      <td>2.0</td>\n",
       "      <td>1</td>\n",
       "      <td>1</td>\n",
       "    </tr>\n",
       "    <tr>\n",
       "      <th>100</th>\n",
       "      <td>1/5/2020 2:00</td>\n",
       "      <td>3.3</td>\n",
       "      <td>1</td>\n",
       "      <td>2</td>\n",
       "    </tr>\n",
       "    <tr>\n",
       "      <th>101</th>\n",
       "      <td>1/5/2020 3:00</td>\n",
       "      <td>5.3</td>\n",
       "      <td>1</td>\n",
       "      <td>3</td>\n",
       "    </tr>\n",
       "  </tbody>\n",
       "</table>\n",
       "<p>100 rows × 4 columns</p>\n",
       "</div>"
      ],
      "text/plain": [
       "         Unnamed: 0    BV  month  hour\n",
       "2     1/1/2020 0:00  20.9      1     0\n",
       "3     1/1/2020 1:00  22.7      1     1\n",
       "4     1/1/2020 2:00  19.4      1     2\n",
       "5     1/1/2020 3:00  20.8      1     3\n",
       "6     1/1/2020 4:00  19.3      1     4\n",
       "..              ...   ...    ...   ...\n",
       "97   1/4/2020 23:00   4.8      1    23\n",
       "98    1/5/2020 0:00   6.5      1     0\n",
       "99    1/5/2020 1:00   2.0      1     1\n",
       "100   1/5/2020 2:00   3.3      1     2\n",
       "101   1/5/2020 3:00   5.3      1     3\n",
       "\n",
       "[100 rows x 4 columns]"
      ]
     },
     "execution_count": 7,
     "metadata": {},
     "output_type": "execute_result"
    }
   ],
   "source": [
    "\n",
    "data['month'] = list(map(lambda x: datetime.datetime.strptime(x,\"%m/%d/%Y %H:%M\").month, data['Unnamed: 0']))\n",
    "data['hour'] = list(map(lambda x: datetime.datetime.strptime(x,\"%m/%d/%Y %H:%M\").hour, data['Unnamed: 0']))\n",
    "data.head(100)\n",
    "\n"
   ]
  },
  {
   "cell_type": "markdown",
   "metadata": {},
   "source": []
  },
  {
   "cell_type": "code",
   "execution_count": 8,
   "metadata": {},
   "outputs": [],
   "source": [
    "# plt.plot(data['Unnamed: 0'],data['BV'])\n",
    "# plt.show()"
   ]
  },
  {
   "cell_type": "code",
   "execution_count": 9,
   "metadata": {
    "scrolled": true,
    "tags": []
   },
   "outputs": [
    {
     "data": {
      "image/png": "[encoded data removed]",
      "text/plain": [
       "<Figure size 1080x432 with 2 Axes>"
      ]
     },
     "metadata": {
      "needs_background": "light"
     },
     "output_type": "display_data"
    }
   ],
   "source": [
    "# monthData = data.groupby(by=['month']) \n",
    "# monthData.head()\n",
    "    \n",
    "\n",
    "result = data.groupby(by=['month'],as_index = False).mean()\n",
    "result.head()\n",
    "\n",
    "resultHR = data.groupby(by=['hour'],as_index=False).mean()\n",
    "resultHR.head(23)\n",
    "\n",
    "fig, subfigs = plt.subplots(1, 2, figsize=(15, 6))\n",
    "subfigs[0].bar(\"month\",\"BV\",data = result)\n",
    "subfigs[1].bar(\"hour\",\"BV\",data = resultHR)\n",
    "plt.show()\n",
    "   "
   ]
  },
  {
   "cell_type": "markdown",
   "metadata": {},
   "source": [
    "Looking at the mean for the months( on the right) and the mean for he hour of day(on the left) it looks like the \n",
    "pollution is the weakest in the early part of the year and that dayly no matter the day the chances of the pollution\n",
    "going up in the morning is high. "
   ]
  },
  {
   "cell_type": "code",
   "execution_count": 29,
   "metadata": {
    "scrolled": true
   },
   "outputs": [
    {
     "data": {
      "text/plain": [
       "<AxesSubplot:xlabel='month', ylabel='BV'>"
      ]
     },
     "execution_count": 29,
     "metadata": {},
     "output_type": "execute_result"
    },
    {
     "data": {
      "image/png": "[encoded data removed]",
      "text/plain": [
       "<Figure size 432x288 with 1 Axes>"
      ]
     },
     "metadata": {
      "needs_background": "light"
     },
     "output_type": "display_data"
    }
   ],
   "source": [
    "# fig, ax = plt.subplots()\n",
    "import seaborn as sns\n",
    "result.head()\n",
    "sns.boxplot(y='BV', x='month', \n",
    "                 data=data, \n",
    "                 palette=\"colorblind\")\n",
    "# for x in result[\"hour\"]:\n",
    "# ax.set_xticklabels(result.keys())\n",
    "# result.boxplot(column = \"BV\",rot=45, fontsize=12, figsize=(8,10))\n"
   ]
  },
  {
   "cell_type": "markdown",
   "metadata": {},
   "source": [
    "The mean for the monthy values seem to be mostly lower then you would think with only a couple of values bring the \n",
    "mean up "
   ]
  },
  {
   "cell_type": "code",
   "execution_count": 31,
   "metadata": {},
   "outputs": [
    {
     "data": {
      "text/plain": [
       "<AxesSubplot:xlabel='hour', ylabel='BV'>"
      ]
     },
     "execution_count": 31,
     "metadata": {},
     "output_type": "execute_result"
    },
    {
     "data": {
      "image/png": "[encoded data removed]",
      "text/plain": [
       "<Figure size 432x288 with 1 Axes>"
      ]
     },
     "metadata": {
      "needs_background": "light"
     },
     "output_type": "display_data"
    }
   ],
   "source": [
    "# resultHR.boxplot(column = \"BV\",rot=45, fontsize=12, figsize=(8,10))\n",
    "sns.boxplot(y='BV', x='hour', \n",
    "                 data=data, \n",
    "                 palette=\"colorblind\")"
   ]
  },
  {
   "cell_type": "markdown",
   "metadata": {},
   "source": [
    "The mean for the hours values are about what I would expect. the discribution looks to be even for the chart so\n",
    "there are no big outliers "
   ]
  }
 ],
 "metadata": {
  "kernelspec": {
   "display_name": "Python 3",
   "language": "python",
   "name": "python3"
  },
  "language_info": {
   "codemirror_mode": {
    "name": "ipython",
    "version": 3
   },
   "file_extension": ".py",
   "mimetype": "text/x-python",
   "name": "python",
   "nbconvert_exporter": "python",
   "pygments_lexer": "ipython3",
   "version": "3.8.5"
  }
 },
 "nbformat": 4,
 "nbformat_minor": 2
}
